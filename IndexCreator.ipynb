{
 "cells": [
  {
   "cell_type": "code",
   "execution_count": 1,
   "metadata": {
    "collapsed": true
   },
   "outputs": [],
   "source": [
    "from whoosh.fields import Schema, TEXT, KEYWORD, ID, STORED\n",
    "from whoosh.index import create_in\n",
    "from whoosh.analysis import Composable, Filter, StopFilter, RegexTokenizer, LowercaseFilter\n",
    "from whoosh.analysis.acore import Token\n",
    "from nltk.stem import WordNetLemmatizer\n",
    "from copy import deepcopy\n",
    "import re\n",
    "from tqdm import tqdm"
   ]
  },
  {
   "cell_type": "code",
   "execution_count": 3,
   "metadata": {
    "collapsed": false
   },
   "outputs": [],
   "source": [
    "class LemmaFilter(Filter):\n",
    "    def __init__(self):\n",
    "        self.lemmatizer = WordNetLemmatizer()\n",
    "\n",
    "    def __call__(self, tokens):\n",
    "        for token in tokens:\n",
    "            lemma = self.lemmatizer.lemmatize(token.text)\n",
    "            lemma_token = deepcopy(token)\n",
    "            lemma_token.text = lemma\n",
    "            yield token\n",
    "            yield lemma_token"
   ]
  },
  {
   "cell_type": "code",
   "execution_count": 4,
   "metadata": {
    "collapsed": false
   },
   "outputs": [],
   "source": [
    "text_analyzer = RegexTokenizer() | LemmaFilter() | LowercaseFilter() | StopFilter()\n",
    "general_analyzer = RegexTokenizer() | LowercaseFilter()"
   ]
  },
  {
   "cell_type": "code",
   "execution_count": 5,
   "metadata": {
    "collapsed": false
   },
   "outputs": [],
   "source": [
    "schema = Schema(id=TEXT(stored=True),\n",
    "               album=TEXT(field_boost=1.5, analyzer=general_analyzer),\n",
    "               artist=TEXT(field_boost=2.0, analyzer=general_analyzer),\n",
    "               text=TEXT(analyzer=text_analyzer),\n",
    "               source=TEXT(analyzer=general_analyzer))"
   ]
  },
  {
   "cell_type": "code",
   "execution_count": 7,
   "metadata": {
    "collapsed": false
   },
   "outputs": [],
   "source": [
    "index = create_in(\"./Index\", schema)\n",
    "writer = index.writer()"
   ]
  },
  {
   "cell_type": "code",
   "execution_count": 8,
   "metadata": {
    "collapsed": true
   },
   "outputs": [],
   "source": [
    "import sqlite3"
   ]
  },
  {
   "cell_type": "code",
   "execution_count": 9,
   "metadata": {
    "collapsed": true
   },
   "outputs": [],
   "source": [
    "connection = sqlite3.connect(\"./reviews_crawler/reviews.db\")\n",
    "cursor = connection.cursor()"
   ]
  },
  {
   "cell_type": "code",
   "execution_count": 10,
   "metadata": {
    "collapsed": false
   },
   "outputs": [],
   "source": [
    "cursor.execute(\"SELECT _id, album, artist, source FROM reviews\")\n",
    "result = cursor.fetchall()"
   ]
  },
  {
   "cell_type": "code",
   "execution_count": 11,
   "metadata": {
    "collapsed": false
   },
   "outputs": [
    {
     "name": "stderr",
     "output_type": "stream",
     "text": [
      "100%|██████████| 20943/20943 [07:48<00:00, 44.73it/s]\n"
     ]
    }
   ],
   "source": [
    "for item in tqdm(result):\n",
    "    _id = item[0]\n",
    "    album = item[1]\n",
    "    if item[1] is None:\n",
    "        album = 'Unknown'\n",
    "    artist = item[2]\n",
    "    if item[2] is None:\n",
    "        artist = 'Various Artists'\n",
    "    source = item[3]\n",
    "    with open(\"./reviews_crawler/review_texts/\" + item[0]) as out:\n",
    "        text = out.readline()\n",
    "    writer.add_document(id=_id, album=album, artist=artist, source=source, text=text)\n"
   ]
  },
  {
   "cell_type": "code",
   "execution_count": 12,
   "metadata": {
    "collapsed": false
   },
   "outputs": [],
   "source": [
    "writer.commit()"
   ]
  }
 ],
 "metadata": {
  "kernelspec": {
   "display_name": "Python 3",
   "language": "python",
   "name": "python3"
  },
  "language_info": {
   "codemirror_mode": {
    "name": "ipython",
    "version": 3
   },
   "file_extension": ".py",
   "mimetype": "text/x-python",
   "name": "python",
   "nbconvert_exporter": "python",
   "pygments_lexer": "ipython3",
   "version": "3.6.0"
  }
 },
 "nbformat": 4,
 "nbformat_minor": 2
}
